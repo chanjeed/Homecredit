{
 "cells": [
  {
   "cell_type": "code",
   "execution_count": 1,
   "metadata": {},
   "outputs": [
    {
     "name": "stderr",
     "output_type": "stream",
     "text": [
      "C:\\Program Files\\Anaconda3\\lib\\site-packages\\sklearn\\cross_validation.py:44: DeprecationWarning: This module was deprecated in version 0.18 in favor of the model_selection module into which all the refactored classes and functions are moved. Also note that the interface of the new CV iterators are different from that of this module. This module will be removed in 0.20.\n",
      "  \"This module will be removed in 0.20.\", DeprecationWarning)\n"
     ]
    }
   ],
   "source": [
    "# library\n",
    "import os\n",
    "import numpy as np\n",
    "import pandas as pd\n",
    "import matplotlib.pyplot as plt\n",
    "% matplotlib inline\n",
    "\n",
    "import sklearn\n",
    "from sklearn.ensemble import RandomForestClassifier\n",
    "from sklearn.cross_validation import train_test_split"
   ]
  },
  {
   "cell_type": "code",
   "execution_count": 3,
   "metadata": {},
   "outputs": [
    {
     "name": "stdout",
     "output_type": "stream",
     "text": [
      "Raw Train data: 307511\n",
      "Raw Test data: 48744\n"
     ]
    }
   ],
   "source": [
    "# read csv data\n",
    "cwd = os.getcwd()\n",
    "data_path = os.path.join(os.path.dirname(cwd),\"data/\").replace('/','\\\\') # for windows\n",
    "\n",
    "application_train = pd.read_csv(os.path.join(data_path,\"application_train.csv\"))\n",
    "application_test = pd.read_csv(os.path.join(data_path,\"application_test.csv\"))\n",
    "\n",
    "print(\"Raw Train data:\",len(application_train))\n",
    "print(\"Raw Test data:\",len(application_test))"
   ]
  },
  {
   "cell_type": "code",
   "execution_count": 4,
   "metadata": {
    "scrolled": true
   },
   "outputs": [
    {
     "name": "stdout",
     "output_type": "stream",
     "text": [
      "Raw Train data (remove NaN): 8602\n",
      "Raw Test data (remove NaN): 1739\n"
     ]
    }
   ],
   "source": [
    "# try get rid of NULL ?\n",
    "print(\"Raw Train data (remove NaN):\",len(application_train.dropna()))\n",
    "print(\"Raw Test data (remove NaN):\",len(application_test.dropna()))\n",
    "\n",
    "## Too many NaN values..."
   ]
  },
  {
   "cell_type": "code",
   "execution_count": 6,
   "metadata": {},
   "outputs": [
    {
     "name": "stdout",
     "output_type": "stream",
     "text": [
      "Training data\n",
      "COMMONAREA_MEDI                214865\n",
      "COMMONAREA_AVG                 214865\n",
      "COMMONAREA_MODE                214865\n",
      "NONLIVINGAPARTMENTS_MODE       213514\n",
      "NONLIVINGAPARTMENTS_MEDI       213514\n",
      "NONLIVINGAPARTMENTS_AVG        213514\n",
      "FONDKAPREMONT_MODE             210295\n",
      "LIVINGAPARTMENTS_MEDI          210199\n",
      "LIVINGAPARTMENTS_MODE          210199\n",
      "LIVINGAPARTMENTS_AVG           210199\n",
      "FLOORSMIN_MEDI                 208642\n",
      "FLOORSMIN_MODE                 208642\n",
      "FLOORSMIN_AVG                  208642\n",
      "YEARS_BUILD_MEDI               204488\n",
      "YEARS_BUILD_AVG                204488\n",
      "YEARS_BUILD_MODE               204488\n",
      "OWN_CAR_AGE                    202929\n",
      "LANDAREA_MODE                  182590\n",
      "LANDAREA_AVG                   182590\n",
      "LANDAREA_MEDI                  182590\n",
      "BASEMENTAREA_MEDI              179943\n",
      "BASEMENTAREA_AVG               179943\n",
      "BASEMENTAREA_MODE              179943\n",
      "EXT_SOURCE_1                   173378\n",
      "NONLIVINGAREA_MEDI             169682\n",
      "NONLIVINGAREA_AVG              169682\n",
      "NONLIVINGAREA_MODE             169682\n",
      "ELEVATORS_MODE                 163891\n",
      "ELEVATORS_AVG                  163891\n",
      "ELEVATORS_MEDI                 163891\n",
      "                                ...  \n",
      "REGION_RATING_CLIENT_W_CITY         0\n",
      "WEEKDAY_APPR_PROCESS_START          0\n",
      "FLAG_DOCUMENT_2                     0\n",
      "FLAG_DOCUMENT_3                     0\n",
      "FLAG_DOCUMENT_4                     0\n",
      "FLAG_DOCUMENT_5                     0\n",
      "FLAG_DOCUMENT_6                     0\n",
      "FLAG_DOCUMENT_7                     0\n",
      "FLAG_DOCUMENT_8                     0\n",
      "FLAG_DOCUMENT_9                     0\n",
      "FLAG_DOCUMENT_10                    0\n",
      "FLAG_DOCUMENT_11                    0\n",
      "FLAG_DOCUMENT_12                    0\n",
      "FLAG_DOCUMENT_13                    0\n",
      "FLAG_DOCUMENT_14                    0\n",
      "FLAG_DOCUMENT_15                    0\n",
      "FLAG_DOCUMENT_16                    0\n",
      "FLAG_DOCUMENT_17                    0\n",
      "FLAG_DOCUMENT_18                    0\n",
      "FLAG_DOCUMENT_19                    0\n",
      "FLAG_DOCUMENT_20                    0\n",
      "FLAG_DOCUMENT_21                    0\n",
      "ORGANIZATION_TYPE                   0\n",
      "LIVE_CITY_NOT_WORK_CITY             0\n",
      "REG_CITY_NOT_WORK_CITY              0\n",
      "REG_CITY_NOT_LIVE_CITY              0\n",
      "LIVE_REGION_NOT_WORK_REGION         0\n",
      "REG_REGION_NOT_WORK_REGION          0\n",
      "HOUR_APPR_PROCESS_START             0\n",
      "SK_ID_CURR                          0\n",
      "Length: 122, dtype: int64\n",
      "\n",
      "Test data\n",
      "COMMONAREA_MEDI                33495\n",
      "COMMONAREA_AVG                 33495\n",
      "COMMONAREA_MODE                33495\n",
      "NONLIVINGAPARTMENTS_MODE       33347\n",
      "NONLIVINGAPARTMENTS_MEDI       33347\n",
      "NONLIVINGAPARTMENTS_AVG        33347\n",
      "FONDKAPREMONT_MODE             32797\n",
      "LIVINGAPARTMENTS_AVG           32780\n",
      "LIVINGAPARTMENTS_MEDI          32780\n",
      "LIVINGAPARTMENTS_MODE          32780\n",
      "FLOORSMIN_MEDI                 32466\n",
      "FLOORSMIN_MODE                 32466\n",
      "FLOORSMIN_AVG                  32466\n",
      "OWN_CAR_AGE                    32312\n",
      "YEARS_BUILD_MEDI               31818\n",
      "YEARS_BUILD_MODE               31818\n",
      "YEARS_BUILD_AVG                31818\n",
      "LANDAREA_AVG                   28254\n",
      "LANDAREA_MODE                  28254\n",
      "LANDAREA_MEDI                  28254\n",
      "BASEMENTAREA_AVG               27641\n",
      "BASEMENTAREA_MODE              27641\n",
      "BASEMENTAREA_MEDI              27641\n",
      "NONLIVINGAREA_MODE             26084\n",
      "NONLIVINGAREA_AVG              26084\n",
      "NONLIVINGAREA_MEDI             26084\n",
      "ELEVATORS_AVG                  25189\n",
      "ELEVATORS_MEDI                 25189\n",
      "ELEVATORS_MODE                 25189\n",
      "WALLSMATERIAL_MODE             23893\n",
      "                               ...  \n",
      "WEEKDAY_APPR_PROCESS_START         0\n",
      "HOUR_APPR_PROCESS_START            0\n",
      "DAYS_LAST_PHONE_CHANGE             0\n",
      "FLAG_DOCUMENT_2                    0\n",
      "FLAG_DOCUMENT_3                    0\n",
      "FLAG_DOCUMENT_4                    0\n",
      "FLAG_DOCUMENT_5                    0\n",
      "FLAG_DOCUMENT_6                    0\n",
      "FLAG_DOCUMENT_7                    0\n",
      "FLAG_DOCUMENT_8                    0\n",
      "FLAG_DOCUMENT_9                    0\n",
      "FLAG_DOCUMENT_10                   0\n",
      "FLAG_DOCUMENT_11                   0\n",
      "FLAG_DOCUMENT_12                   0\n",
      "FLAG_DOCUMENT_13                   0\n",
      "FLAG_DOCUMENT_14                   0\n",
      "FLAG_DOCUMENT_15                   0\n",
      "FLAG_DOCUMENT_16                   0\n",
      "FLAG_DOCUMENT_17                   0\n",
      "FLAG_DOCUMENT_18                   0\n",
      "FLAG_DOCUMENT_19                   0\n",
      "FLAG_DOCUMENT_20                   0\n",
      "FLAG_DOCUMENT_21                   0\n",
      "ORGANIZATION_TYPE                  0\n",
      "LIVE_CITY_NOT_WORK_CITY            0\n",
      "REG_CITY_NOT_WORK_CITY             0\n",
      "REG_CITY_NOT_LIVE_CITY             0\n",
      "LIVE_REGION_NOT_WORK_REGION        0\n",
      "REG_REGION_NOT_WORK_REGION         0\n",
      "SK_ID_CURR                         0\n",
      "Length: 121, dtype: int64\n"
     ]
    }
   ],
   "source": [
    "# rank columns by number of NaN contains\n",
    "print(\"Train data\")\n",
    "print(application_train.isnull().astype(int).sum().sort_values(ascending=False))\n",
    "print(\"\\nTest data\")\n",
    "print(application_test.isnull().astype(int).sum().sort_values(ascending=False))\n",
    "\n",
    "## Many columns contain NaN values more than 50%"
   ]
  },
  {
   "cell_type": "code",
   "execution_count": 34,
   "metadata": {},
   "outputs": [],
   "source": [
    "# Get rid of columns that contains NaN values more than 10% , and clear other NaN rows\n",
    "application_train_fix = application_train.loc[:,application_train.isnull().astype(int).sum()<len(application_train)*0.05].dropna()\n",
    "application_test_fix = application_test.loc[:,application_train.isnull().astype(int).sum()<len(application_train)*0.05].dropna()"
   ]
  },
  {
   "cell_type": "code",
   "execution_count": 35,
   "metadata": {},
   "outputs": [
    {
     "name": "stdout",
     "output_type": "stream",
     "text": [
      "Train data: 304531\n",
      "Test data: 47772\n"
     ]
    }
   ],
   "source": [
    "print(\"Train data:\",len(application_train_fix))\n",
    "print(\"Test data:\",len(application_test_fix))"
   ]
  },
  {
   "cell_type": "code",
   "execution_count": 39,
   "metadata": {},
   "outputs": [
    {
     "name": "stdout",
     "output_type": "stream",
     "text": [
      "Index(['SK_ID_CURR', 'TARGET', 'CNT_CHILDREN', 'AMT_INCOME_TOTAL',\n",
      "       'AMT_CREDIT', 'AMT_ANNUITY', 'AMT_GOODS_PRICE',\n",
      "       'REGION_POPULATION_RELATIVE', 'DAYS_BIRTH', 'DAYS_EMPLOYED',\n",
      "       'DAYS_REGISTRATION', 'DAYS_ID_PUBLISH', 'FLAG_MOBIL', 'FLAG_EMP_PHONE',\n",
      "       'FLAG_WORK_PHONE', 'FLAG_CONT_MOBILE', 'FLAG_PHONE', 'FLAG_EMAIL',\n",
      "       'CNT_FAM_MEMBERS', 'REGION_RATING_CLIENT',\n",
      "       'REGION_RATING_CLIENT_W_CITY', 'HOUR_APPR_PROCESS_START',\n",
      "       'REG_REGION_NOT_LIVE_REGION', 'REG_REGION_NOT_WORK_REGION',\n",
      "       'LIVE_REGION_NOT_WORK_REGION', 'REG_CITY_NOT_LIVE_CITY',\n",
      "       'REG_CITY_NOT_WORK_CITY', 'LIVE_CITY_NOT_WORK_CITY', 'EXT_SOURCE_2',\n",
      "       'OBS_30_CNT_SOCIAL_CIRCLE', 'DEF_30_CNT_SOCIAL_CIRCLE',\n",
      "       'OBS_60_CNT_SOCIAL_CIRCLE', 'DEF_60_CNT_SOCIAL_CIRCLE',\n",
      "       'DAYS_LAST_PHONE_CHANGE', 'FLAG_DOCUMENT_2', 'FLAG_DOCUMENT_3',\n",
      "       'FLAG_DOCUMENT_4', 'FLAG_DOCUMENT_5', 'FLAG_DOCUMENT_6',\n",
      "       'FLAG_DOCUMENT_7', 'FLAG_DOCUMENT_8', 'FLAG_DOCUMENT_9',\n",
      "       'FLAG_DOCUMENT_10', 'FLAG_DOCUMENT_11', 'FLAG_DOCUMENT_12',\n",
      "       'FLAG_DOCUMENT_13', 'FLAG_DOCUMENT_14', 'FLAG_DOCUMENT_15',\n",
      "       'FLAG_DOCUMENT_16', 'FLAG_DOCUMENT_17', 'FLAG_DOCUMENT_18',\n",
      "       'FLAG_DOCUMENT_19', 'FLAG_DOCUMENT_20', 'FLAG_DOCUMENT_21'],\n",
      "      dtype='object')\n",
      "SK_ID_CURR                        int64\n",
      "TARGET                         category\n",
      "CNT_CHILDREN                      int64\n",
      "AMT_INCOME_TOTAL                float64\n",
      "AMT_CREDIT                      float64\n",
      "AMT_ANNUITY                     float64\n",
      "AMT_GOODS_PRICE                 float64\n",
      "REGION_POPULATION_RELATIVE      float64\n",
      "DAYS_BIRTH                        int64\n",
      "DAYS_EMPLOYED                     int64\n",
      "DAYS_REGISTRATION               float64\n",
      "DAYS_ID_PUBLISH                   int64\n",
      "FLAG_MOBIL                        int64\n",
      "FLAG_EMP_PHONE                    int64\n",
      "FLAG_WORK_PHONE                   int64\n",
      "FLAG_CONT_MOBILE                  int64\n",
      "FLAG_PHONE                        int64\n",
      "FLAG_EMAIL                        int64\n",
      "CNT_FAM_MEMBERS                 float64\n",
      "REGION_RATING_CLIENT              int64\n",
      "REGION_RATING_CLIENT_W_CITY       int64\n",
      "HOUR_APPR_PROCESS_START           int64\n",
      "REG_REGION_NOT_LIVE_REGION        int64\n",
      "REG_REGION_NOT_WORK_REGION        int64\n",
      "LIVE_REGION_NOT_WORK_REGION       int64\n",
      "REG_CITY_NOT_LIVE_CITY            int64\n",
      "REG_CITY_NOT_WORK_CITY            int64\n",
      "LIVE_CITY_NOT_WORK_CITY           int64\n",
      "EXT_SOURCE_2                    float64\n",
      "OBS_30_CNT_SOCIAL_CIRCLE        float64\n",
      "DEF_30_CNT_SOCIAL_CIRCLE        float64\n",
      "OBS_60_CNT_SOCIAL_CIRCLE        float64\n",
      "DEF_60_CNT_SOCIAL_CIRCLE        float64\n",
      "DAYS_LAST_PHONE_CHANGE          float64\n",
      "FLAG_DOCUMENT_2                   int64\n",
      "FLAG_DOCUMENT_3                   int64\n",
      "FLAG_DOCUMENT_4                   int64\n",
      "FLAG_DOCUMENT_5                   int64\n",
      "FLAG_DOCUMENT_6                   int64\n",
      "FLAG_DOCUMENT_7                   int64\n",
      "FLAG_DOCUMENT_8                   int64\n",
      "FLAG_DOCUMENT_9                   int64\n",
      "FLAG_DOCUMENT_10                  int64\n",
      "FLAG_DOCUMENT_11                  int64\n",
      "FLAG_DOCUMENT_12                  int64\n",
      "FLAG_DOCUMENT_13                  int64\n",
      "FLAG_DOCUMENT_14                  int64\n",
      "FLAG_DOCUMENT_15                  int64\n",
      "FLAG_DOCUMENT_16                  int64\n",
      "FLAG_DOCUMENT_17                  int64\n",
      "FLAG_DOCUMENT_18                  int64\n",
      "FLAG_DOCUMENT_19                  int64\n",
      "FLAG_DOCUMENT_20                  int64\n",
      "FLAG_DOCUMENT_21                  int64\n",
      "dtype: object\n"
     ]
    }
   ],
   "source": [
    "# Look at features and dtypes\n",
    "print(application_train_fix.columns)\n",
    "print(application_train_fix.dtypes)"
   ]
  },
  {
   "cell_type": "code",
   "execution_count": 38,
   "metadata": {},
   "outputs": [],
   "source": [
    "# Convert to categorical (dummy)\n",
    "application_train_fix[\"TARGET\"] = application_train_fix[\"TARGET\"].astype('category')\n",
    "object_to_categorical = [col for col in application_train_fix.columns[application_train_fix.dtypes == object]]\n",
    "#for col in object_to_categorical:\n",
    "#    application_train_fix = pd.concat([application_train_fix,pd.get_dummies(application_train_fix[col])])\n",
    "#    application_test_fix = pd.concat([application_test_fix,pd.get_dummies(application_test_fix[col])])\n",
    "\n",
    "application_train_fix = application_train_fix.drop(object_to_categorical,axis=1)\n",
    "application_test_fix = application_test_fix.drop(object_to_categorical,axis=1)"
   ]
  },
  {
   "cell_type": "code",
   "execution_count": 40,
   "metadata": {},
   "outputs": [],
   "source": [
    "# create dataset\n",
    "X = application_train_fix.drop([\"SK_ID_CURR\",\"TARGET\"],axis=1)\n",
    "Y = application_train_fix[\"TARGET\"]\n",
    "\n",
    "X_train, X_test, Y_train, Y_test = train_test_split(X, Y, test_size=0.2, random_state=42)"
   ]
  },
  {
   "cell_type": "code",
   "execution_count": 41,
   "metadata": {},
   "outputs": [
    {
     "data": {
      "text/plain": [
       "RandomForestClassifier(bootstrap=True, class_weight=None, criterion='gini',\n",
       "            max_depth=3, max_features='auto', max_leaf_nodes=None,\n",
       "            min_impurity_split=1e-07, min_samples_leaf=1,\n",
       "            min_samples_split=2, min_weight_fraction_leaf=0.0,\n",
       "            n_estimators=10, n_jobs=1, oob_score=False, random_state=42,\n",
       "            verbose=0, warm_start=False)"
      ]
     },
     "execution_count": 41,
     "metadata": {},
     "output_type": "execute_result"
    }
   ],
   "source": [
    "# Random Forest\n",
    "clf = RandomForestClassifier(max_depth=3, random_state=42)\n",
    "clf.fit(X_train,Y_train)"
   ]
  },
  {
   "cell_type": "code",
   "execution_count": 43,
   "metadata": {},
   "outputs": [
    {
     "name": "stdout",
     "output_type": "stream",
     "text": [
      "[  0.00000000e+00   6.59844484e-03   3.26519445e-02   3.17791943e-02\n",
      "   4.21111387e-02   1.75277322e-03   1.28240301e-01   2.31463620e-02\n",
      "   3.59370996e-03   1.07700764e-02   0.00000000e+00   1.62602758e-03\n",
      "   0.00000000e+00   0.00000000e+00   0.00000000e+00   0.00000000e+00\n",
      "   0.00000000e+00   9.84687735e-03   1.60833762e-02   2.02017132e-03\n",
      "   0.00000000e+00   0.00000000e+00   0.00000000e+00   3.50544429e-03\n",
      "   6.82821466e-03   0.00000000e+00   6.20452826e-01   3.87031592e-04\n",
      "   3.28557042e-03   0.00000000e+00   0.00000000e+00   4.42686505e-02\n",
      "   0.00000000e+00   1.10518661e-02   0.00000000e+00   0.00000000e+00\n",
      "   0.00000000e+00   0.00000000e+00   0.00000000e+00   0.00000000e+00\n",
      "   0.00000000e+00   0.00000000e+00   0.00000000e+00   0.00000000e+00\n",
      "   0.00000000e+00   0.00000000e+00   0.00000000e+00   0.00000000e+00\n",
      "   0.00000000e+00   0.00000000e+00   0.00000000e+00   0.00000000e+00]\n"
     ]
    }
   ],
   "source": [
    "# Features impotance\n",
    "print(clf.feature_importances_)"
   ]
  },
  {
   "cell_type": "code",
   "execution_count": 46,
   "metadata": {},
   "outputs": [
    {
     "name": "stdout",
     "output_type": "stream",
     "text": [
      "0.918104651354\n"
     ]
    }
   ],
   "source": [
    "# accuracy by model\n",
    "print(clf.score(X_test,Y_test))"
   ]
  },
  {
   "cell_type": "code",
   "execution_count": 54,
   "metadata": {},
   "outputs": [
    {
     "name": "stdout",
     "output_type": "stream",
     "text": [
      "0.9181046513537032\n"
     ]
    }
   ],
   "source": [
    "# accuracy by random guessing\n",
    "print(len(list(filter(lambda x: x==0, Y_test)))/len(Y_test))"
   ]
  }
 ],
 "metadata": {
  "kernelspec": {
   "display_name": "Python 3",
   "language": "python",
   "name": "python3"
  },
  "language_info": {
   "codemirror_mode": {
    "name": "ipython",
    "version": 3
   },
   "file_extension": ".py",
   "mimetype": "text/x-python",
   "name": "python",
   "nbconvert_exporter": "python",
   "pygments_lexer": "ipython3",
   "version": "3.6.1"
  }
 },
 "nbformat": 4,
 "nbformat_minor": 2
}
